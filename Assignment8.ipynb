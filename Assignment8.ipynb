{
 "cells": [
  {
   "cell_type": "code",
   "execution_count": 30,
   "metadata": {},
   "outputs": [
    {
     "data": {
      "text/html": [
       "<div>\n",
       "<style scoped>\n",
       "    .dataframe tbody tr th:only-of-type {\n",
       "        vertical-align: middle;\n",
       "    }\n",
       "\n",
       "    .dataframe tbody tr th {\n",
       "        vertical-align: top;\n",
       "    }\n",
       "\n",
       "    .dataframe thead th {\n",
       "        text-align: right;\n",
       "    }\n",
       "</style>\n",
       "<table border=\"1\" class=\"dataframe\">\n",
       "  <thead>\n",
       "    <tr style=\"text-align: right;\">\n",
       "      <th></th>\n",
       "      <th>X</th>\n",
       "      <th>Y</th>\n",
       "    </tr>\n",
       "  </thead>\n",
       "  <tbody>\n",
       "    <tr>\n",
       "      <th>0</th>\n",
       "      <td>7</td>\n",
       "      <td>1</td>\n",
       "    </tr>\n",
       "    <tr>\n",
       "      <th>1</th>\n",
       "      <td>2</td>\n",
       "      <td>2</td>\n",
       "    </tr>\n",
       "    <tr>\n",
       "      <th>2</th>\n",
       "      <td>0</td>\n",
       "      <td>0</td>\n",
       "    </tr>\n",
       "    <tr>\n",
       "      <th>3</th>\n",
       "      <td>3</td>\n",
       "      <td>1</td>\n",
       "    </tr>\n",
       "    <tr>\n",
       "      <th>4</th>\n",
       "      <td>4</td>\n",
       "      <td>2</td>\n",
       "    </tr>\n",
       "    <tr>\n",
       "      <th>5</th>\n",
       "      <td>2</td>\n",
       "      <td>3</td>\n",
       "    </tr>\n",
       "    <tr>\n",
       "      <th>6</th>\n",
       "      <td>5</td>\n",
       "      <td>4</td>\n",
       "    </tr>\n",
       "    <tr>\n",
       "      <th>7</th>\n",
       "      <td>0</td>\n",
       "      <td>0</td>\n",
       "    </tr>\n",
       "    <tr>\n",
       "      <th>8</th>\n",
       "      <td>3</td>\n",
       "      <td>1</td>\n",
       "    </tr>\n",
       "    <tr>\n",
       "      <th>9</th>\n",
       "      <td>4</td>\n",
       "      <td>2</td>\n",
       "    </tr>\n",
       "  </tbody>\n",
       "</table>\n",
       "</div>"
      ],
      "text/plain": [
       "   X  Y\n",
       "0  7  1\n",
       "1  2  2\n",
       "2  0  0\n",
       "3  3  1\n",
       "4  4  2\n",
       "5  2  3\n",
       "6  5  4\n",
       "7  0  0\n",
       "8  3  1\n",
       "9  4  2"
      ]
     },
     "execution_count": 30,
     "metadata": {},
     "output_type": "execute_result"
    }
   ],
   "source": [
    "#1) How-to-count-distance-to-the-previous-zero\n",
    "#For each value, count the difference of the distance from the previous zero (or the start\n",
    "#of the Series, whichever is closer) and if there are no previous zeros,print the position\n",
    "#Consider a DataFrame df where there is an integer column {'X':[7, 2, 0, 3, 4, 2, 5, 0, 3, 4]}\n",
    "#The values should therefore be [1, 2, 0, 1, 2, 3, 4, 0, 1, 2]. Make this a new column 'Y'.\n",
    "\n",
    "import pandas as pd\n",
    "import numpy as np\n",
    "\n",
    "#Read dataframe\n",
    "df = pd.DataFrame({'X': [7, 2, 0, 3, 4, 2, 5, 0, 3, 4]})\n",
    "\n",
    "#get all non zero\n",
    "idx_zero =np.r_[-1,(df['X'] == 0).nonzero()[0]]\n",
    "\n",
    "idx = np.arange(len(df))\n",
    "\n",
    "df['Y'] = idx - idx_zero[np.searchsorted(idx_zero - 1, idx) - 1]\n",
    "\n",
    "df"
   ]
  },
  {
   "cell_type": "code",
   "execution_count": 6,
   "metadata": {},
   "outputs": [
    {
     "data": {
      "text/plain": [
       "[1, 2, 0, 1, 2, 3, 4, 0, 1, 2]"
      ]
     },
     "execution_count": 6,
     "metadata": {},
     "output_type": "execute_result"
    }
   ],
   "source": [
    "#1) How-to-count-distance-to-the-previous-zero\n",
    "#For each value, count the difference of the distance from the previous zero (or the start\n",
    "#of the Series, whichever is closer) and if there are no previous zeros,print the position\n",
    "#Consider a DataFrame df where there is an integer column {'X':[7, 2, 0, 3, 4, 2, 5, 0, 3, 4]}\n",
    "#The values should therefore be [1, 2, 0, 1, 2, 3, 4, 0, 1, 2]. Make this a new column 'Y'.\n",
    "\n",
    "# Another way using series\n",
    "\n",
    "import pandas as pd\n",
    "import numpy as np\n",
    "\n",
    "df = pd.DataFrame({'X': [7, 2, 0, 3, 4, 2, 5, 0, 3, 4]})\n",
    "#print(df)\n",
    "\n",
    "ser = pd.Series([7, 2, 0, 3, 4, 2, 5, 0, 3, 4])\n",
    "\n",
    "(ser.groupby(ser.eq(0).cumsum().mask(ser.eq(0))).cumcount() + 1).mask(ser.eq(0), 0).tolist()"
   ]
  },
  {
   "cell_type": "code",
   "execution_count": 32,
   "metadata": {},
   "outputs": [
    {
     "name": "stdout",
     "output_type": "stream",
     "text": [
      "2015-01-01    0.516399\n",
      "2015-01-02    0.570668\n",
      "2015-01-05    0.028474\n",
      "2015-01-06    0.171522\n",
      "2015-01-07    0.685277\n",
      "2015-01-08    0.833897\n",
      "2015-01-09    0.306966\n",
      "2015-01-12    0.893613\n",
      "2015-01-13    0.721544\n",
      "2015-01-14    0.189939\n",
      "2015-01-15    0.554228\n",
      "2015-01-16    0.352132\n",
      "2015-01-19    0.181892\n",
      "2015-01-20    0.785602\n",
      "2015-01-21    0.965483\n",
      "2015-01-22    0.232354\n",
      "2015-01-23    0.083561\n",
      "2015-01-26    0.603548\n",
      "2015-01-27    0.728993\n",
      "2015-01-28    0.276239\n",
      "2015-01-29    0.685306\n",
      "2015-01-30    0.517867\n",
      "2015-02-02    0.048485\n",
      "2015-02-03    0.137869\n",
      "2015-02-04    0.186967\n",
      "2015-02-05    0.994318\n",
      "2015-02-06    0.520665\n",
      "2015-02-09    0.578790\n",
      "2015-02-10    0.734819\n",
      "2015-02-11    0.541962\n",
      "                ...   \n",
      "2016-04-14    0.477787\n",
      "2016-04-15    0.713425\n",
      "2016-04-18    0.707663\n",
      "2016-04-19    0.499877\n",
      "2016-04-20    0.126692\n",
      "2016-04-21    0.886634\n",
      "2016-04-22    0.209648\n",
      "2016-04-25    0.430610\n",
      "2016-04-26    0.912268\n",
      "2016-04-27    0.939001\n",
      "2016-04-28    0.578569\n",
      "2016-04-29    0.863774\n",
      "2016-05-02    0.683537\n",
      "2016-05-03    0.479563\n",
      "2016-05-04    0.443231\n",
      "2016-05-05    0.119945\n",
      "2016-05-06    0.441757\n",
      "2016-05-09    0.434100\n",
      "2016-05-10    0.472092\n",
      "2016-05-11    0.303878\n",
      "2016-05-12    0.889408\n",
      "2016-05-13    0.009608\n",
      "2016-05-16    0.095076\n",
      "2016-05-17    0.669777\n",
      "2016-05-18    0.408124\n",
      "2016-05-19    0.845397\n",
      "2016-05-20    0.311757\n",
      "2016-05-23    0.856074\n",
      "2016-05-24    0.033738\n",
      "2016-05-25    0.992224\n",
      "Freq: B, Length: 365, dtype: float64\n"
     ]
    }
   ],
   "source": [
    "#2.create a datetimindex that contains each business day of 2015 and use it to index a series of random numbers\n",
    "import pandas as pd\n",
    "import numpy as np\n",
    "#the random numbers are fixed so any number of time it runs the value will not change\n",
    "np.random.seed(101)\n",
    "# B is th efreq for business day\n",
    "date_idx=pd.period_range('2015-01', periods=365, freq='B')\n",
    "\n",
    "s = pd.Series(np.random.rand(len(date_idx)), index=date_idx)\n",
    "\n",
    "print(s)"
   ]
  },
  {
   "cell_type": "code",
   "execution_count": 33,
   "metadata": {},
   "outputs": [
    {
     "data": {
      "text/plain": [
       "38.05231217427865"
      ]
     },
     "execution_count": 33,
     "metadata": {},
     "output_type": "execute_result"
    }
   ],
   "source": [
    "#3) Find the sum of the values in s for every Wednesdayimport pandas as pd\n",
    "import pandas as pd\n",
    "import numpy as np\n",
    "#the random numbers are fixed so any number of time it runs the value will not change\n",
    "np.random.seed(101)\n",
    "date_idx=pd.period_range('2015-01', periods=365, freq='B')\n",
    "\n",
    "s = pd.Series(np.random.rand(len(date_idx)), index=date_idx)\n",
    "s[date_idx.weekday == 2].sum() "
   ]
  },
  {
   "cell_type": "code",
   "execution_count": 34,
   "metadata": {},
   "outputs": [
    {
     "data": {
      "text/plain": [
       "2015-01    0.494796\n",
       "2015-02    0.543884\n",
       "2015-03    0.447033\n",
       "2015-04    0.524018\n",
       "2015-05    0.449844\n",
       "2015-06    0.557363\n",
       "2015-07    0.512081\n",
       "2015-08    0.578272\n",
       "2015-09    0.517534\n",
       "2015-10    0.483025\n",
       "2015-11    0.508680\n",
       "2015-12    0.515917\n",
       "2016-01    0.502113\n",
       "2016-02    0.460358\n",
       "2016-03    0.549333\n",
       "2016-04    0.563533\n",
       "2016-05    0.471627\n",
       "Freq: M, dtype: float64"
      ]
     },
     "execution_count": 34,
     "metadata": {},
     "output_type": "execute_result"
    }
   ],
   "source": [
    "#4) Average For each calendar month\n",
    "import pandas as pd\n",
    "import numpy as np\n",
    "#the random numbers are fixed so any number of time it runs the value will not change\n",
    "np.random.seed(101)\n",
    "\n",
    "date_idx=pd.period_range('2015-01', periods=365, freq='B')\n",
    "s = pd.Series(np.random.rand(len(date_idx)), index=date_idx)\n",
    "# Do the summation usingsum\n",
    "s[date_idx.weekday == 2].sum() \n",
    "\n",
    "#find the average using mean function\n",
    "s.resample('M').mean()"
   ]
  },
  {
   "cell_type": "code",
   "execution_count": 40,
   "metadata": {},
   "outputs": [
    {
     "data": {
      "text/plain": [
       "2015Q1   2015-02-05\n",
       "2015Q2   2015-04-29\n",
       "2015Q3   2015-08-10\n",
       "2015Q4   2015-10-22\n",
       "2016Q1   2016-03-23\n",
       "2016Q2   2016-05-25\n",
       "Freq: Q-DEC, dtype: object"
      ]
     },
     "execution_count": 40,
     "metadata": {},
     "output_type": "execute_result"
    }
   ],
   "source": [
    "#5) For each group of four consecutive calendar months in s, find the date on which the highest value occurred.\n",
    "\n",
    "s.groupby(pd.Grouper(freq='q')).idxmax()"
   ]
  },
  {
   "cell_type": "code",
   "execution_count": 19,
   "metadata": {},
   "outputs": [
    {
     "name": "stderr",
     "output_type": "stream",
     "text": [
      "C:\\ProgramData\\Anaconda3\\lib\\site-packages\\ipykernel_launcher.py:2: FutureWarning: pd.TimeGrouper is deprecated and will be removed; Please use pd.Grouper(freq=...)\n",
      "  \n"
     ]
    },
    {
     "data": {
      "text/plain": [
       "2015-01   2015-04-02\n",
       "2015-05   2015-07-22\n",
       "2015-09   2015-10-25\n",
       "Freq: 4M, dtype: object"
      ]
     },
     "execution_count": 19,
     "metadata": {},
     "output_type": "execute_result"
    }
   ],
   "source": [
    "#5) For each group of four consecutive calendar months in s, find the date on which the highest value occurred.\n",
    "s.groupby(pd.TimeGrouper('4M')).idxmax()"
   ]
  },
  {
   "cell_type": "code",
   "execution_count": null,
   "metadata": {},
   "outputs": [],
   "source": []
  }
 ],
 "metadata": {
  "kernelspec": {
   "display_name": "Python 3",
   "language": "python",
   "name": "python3"
  },
  "language_info": {
   "codemirror_mode": {
    "name": "ipython",
    "version": 3
   },
   "file_extension": ".py",
   "mimetype": "text/x-python",
   "name": "python",
   "nbconvert_exporter": "python",
   "pygments_lexer": "ipython3",
   "version": "3.7.1"
  }
 },
 "nbformat": 4,
 "nbformat_minor": 2
}
